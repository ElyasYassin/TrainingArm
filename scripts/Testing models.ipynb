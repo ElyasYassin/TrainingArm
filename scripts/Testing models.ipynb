{
 "cells": [
  {
   "cell_type": "markdown",
   "metadata": {},
   "source": [
    "### This code allows the manipulation of myosuite models based on tasks."
   ]
  },
  {
   "cell_type": "code",
   "execution_count": 1,
   "metadata": {},
   "outputs": [
    {
     "name": "stdout",
     "output_type": "stream",
     "text": [
      "MyoSuite:> Registering Myo Envs\n"
     ]
    }
   ],
   "source": [
    "import myosuite\n",
    "import gym\n",
    "import imageio\n",
    "import numpy as np\n",
    "import os\n",
    "import tqdm\n"
   ]
  },
  {
   "cell_type": "code",
   "execution_count": 2,
   "metadata": {},
   "outputs": [],
   "source": [
    "from IPython.display import HTML\n",
    "from base64 import b64encode\n",
    " \n",
    "def show_video(video_path, video_width = 400):\n",
    "   \n",
    "  video_file = open(video_path, \"r+b\").read()\n",
    " \n",
    "  video_url = f\"data:video/mp4;base64,{b64encode(video_file).decode()}\"\n",
    "  return HTML(f\"\"\"\"\"\")"
   ]
  },
  {
   "cell_type": "markdown",
   "metadata": {},
   "source": [
    "### <b>ReachV0</b>"
   ]
  },
  {
   "cell_type": "markdown",
   "metadata": {},
   "source": [
    "### Display the environment in MuJoCo"
   ]
  },
  {
   "cell_type": "code",
   "execution_count": 3,
   "metadata": {},
   "outputs": [
    {
     "name": "stdout",
     "output_type": "stream",
     "text": [
      "\u001b[36m    MyoSuite: A contact-rich simulation suite for musculoskeletal motor control\n",
      "        Vittorio Caggiano, Huawei Wang, Guillaume Durandau, Massimo Sartori, Vikash Kumar\n",
      "        L4DC-2019 | https://sites.google.com/view/myosuite\n",
      "    \u001b[0m\n"
     ]
    },
    {
     "data": {
      "text/plain": [
       "array([-2.2856e-02,  1.1130e-02, -8.2680e-02,  1.0125e-01, -4.9400e-02,\n",
       "        1.6578e-01,  1.1868e-01, -1.9320e-01, -1.9648e-01,  3.8760e-02,\n",
       "        1.6806e-01,  1.7281e-01, -2.5407e-01, -1.0998e-01,  1.4748e+00,\n",
       "        1.2882e+00,  1.0647e-01, -2.7489e-01,  3.3200e-01,  4.1140e-01,\n",
       "       -1.7716e-01, -2.6182e-01,  1.8852e-01,  1.7017e-01,  4.4773e-01,\n",
       "        2.6707e-01,  2.8278e-01, -1.0472e-02,  1.6854e-02,  7.0198e-03,\n",
       "        9.1390e-02, -6.5450e-02,  2.4350e-01,  3.3776e-01,  2.3565e-01,\n",
       "       -1.0184e-01,  6.0707e-04,  3.1420e-02, -2.0000e-01,  0.0000e+00,\n",
       "       -2.0000e-02,  0.0000e+00,  0.0000e+00,  0.0000e+00,  0.0000e+00,\n",
       "        0.0000e+00,  0.0000e+00,  0.0000e+00,  0.0000e+00,  0.0000e+00,\n",
       "        0.0000e+00,  0.0000e+00,  0.0000e+00,  0.0000e+00,  0.0000e+00,\n",
       "        0.0000e+00,  0.0000e+00,  0.0000e+00,  0.0000e+00,  0.0000e+00,\n",
       "        0.0000e+00,  0.0000e+00,  0.0000e+00,  0.0000e+00,  0.0000e+00,\n",
       "        0.0000e+00,  0.0000e+00,  0.0000e+00,  0.0000e+00,  0.0000e+00,\n",
       "        0.0000e+00,  0.0000e+00,  0.0000e+00,  0.0000e+00,  0.0000e+00,\n",
       "        0.0000e+00,  0.0000e+00,  0.0000e+00,  0.0000e+00,  0.0000e+00,\n",
       "        0.0000e+00,  0.0000e+00,  0.0000e+00,  0.0000e+00,  0.0000e+00,\n",
       "        0.0000e+00,  0.0000e+00,  0.0000e+00, -5.0000e-02, -2.0000e-01,\n",
       "        1.0700e+00, -1.8909e-01, -3.9529e-02, -1.7668e-02,  0.0000e+00,\n",
       "        0.0000e+00,  0.0000e+00,  0.0000e+00,  0.0000e+00,  0.0000e+00,\n",
       "        0.0000e+00,  0.0000e+00,  0.0000e+00,  0.0000e+00,  0.0000e+00,\n",
       "        0.0000e+00,  0.0000e+00,  0.0000e+00,  0.0000e+00,  0.0000e+00,\n",
       "        0.0000e+00,  0.0000e+00,  0.0000e+00,  0.0000e+00,  0.0000e+00,\n",
       "        0.0000e+00,  0.0000e+00,  0.0000e+00,  0.0000e+00,  0.0000e+00,\n",
       "        0.0000e+00,  0.0000e+00,  0.0000e+00,  0.0000e+00,  0.0000e+00,\n",
       "        0.0000e+00,  0.0000e+00,  0.0000e+00,  0.0000e+00,  0.0000e+00,\n",
       "        0.0000e+00,  0.0000e+00,  0.0000e+00,  0.0000e+00,  0.0000e+00,\n",
       "        0.0000e+00,  0.0000e+00,  0.0000e+00,  0.0000e+00,  0.0000e+00,\n",
       "        0.0000e+00,  0.0000e+00,  0.0000e+00,  0.0000e+00,  0.0000e+00,\n",
       "        0.0000e+00,  0.0000e+00,  0.0000e+00,  0.0000e+00,  0.0000e+00,\n",
       "        0.0000e+00,  0.0000e+00,  0.0000e+00,  0.0000e+00,  0.0000e+00,\n",
       "        0.0000e+00,  0.0000e+00])"
      ]
     },
     "execution_count": 3,
     "metadata": {},
     "output_type": "execute_result"
    }
   ],
   "source": [
    "import gym\n",
    "import myosuite \n",
    "import time\n",
    "\n",
    "#CenterReachOut-v0\n",
    "#myoChallengeRelocateP1-v0\n",
    "\n",
    "\n",
    "env = gym.make('CenterReachOut-v0')\n",
    "env.reset()\n"
   ]
  },
  {
   "cell_type": "code",
   "execution_count": 4,
   "metadata": {},
   "outputs": [
    {
     "name": "stdout",
     "output_type": "stream",
     "text": [
      "Observation dimension 157\n",
      "Observation values: [-2.9494e-02  1.3401e-02 -6.3870e-02  8.4827e-02 -4.1645e-02  1.4420e-01\n",
      "  1.0548e-01 -1.5920e-01 -1.6644e-01  3.5651e-02  1.7527e-01  1.5368e-01\n",
      " -2.3591e-01 -1.4248e-01  1.4739e+00  1.2599e+00  1.5605e-01 -2.4659e-01\n",
      "  3.2377e-01  4.1835e-01 -1.7399e-01 -2.7782e-01  1.9352e-01  1.9152e-01\n",
      "  4.3498e-01  2.5812e-01  3.2764e-01 -4.6588e-02  6.2943e-03  3.5955e-03\n",
      "  4.6856e-02 -4.1263e-02  2.1563e-01  2.7018e-01  2.7315e-01 -1.3855e-01\n",
      "  8.9536e-03  1.7633e-02 -2.0000e-01  0.0000e+00 -2.2158e-02  0.0000e+00\n",
      "  0.0000e+00  0.0000e+00 -5.8202e-03  1.9000e-03  2.4847e-02 -2.3431e-02\n",
      "  1.1570e-02 -3.3894e-02 -2.3002e-02  5.0124e-02  4.5216e-02 -6.4713e-03\n",
      "  9.6447e-03 -2.6058e-02  2.2505e-02 -5.0643e-02  1.1853e-02 -4.6893e-02\n",
      "  6.1570e-02  3.6615e-02 -5.6361e-04  1.6369e-02  1.0336e-02 -1.7302e-02\n",
      "  7.4414e-03  4.6161e-02 -2.1025e-02 -1.2676e-02  7.6094e-02 -4.1225e-02\n",
      " -1.3418e-03  5.4848e-04 -6.9199e-02  4.9696e-02 -5.2070e-02 -1.0549e-01\n",
      "  6.9528e-02 -5.1929e-02  2.3830e-02 -1.2386e-02  0.0000e+00  0.0000e+00\n",
      " -3.9224e-03  0.0000e+00  0.0000e+00  0.0000e+00 -5.0000e-02 -2.0000e-01\n",
      "  1.0678e+00 -1.8791e-01 -4.0505e-02 -1.1251e-02  9.6725e-02  1.1917e-03\n",
      "  4.0870e-01  9.7748e-04  3.3429e-02  6.1565e-04  3.2263e-01  5.6198e-04\n",
      "  1.7978e-02  4.5875e-02  3.2153e-01  2.0331e-01  1.0355e-01  5.0600e-02\n",
      "  2.8859e-01  6.0984e-04  5.3703e-01  7.0868e-02  5.1561e-03  7.4132e-01\n",
      "  5.9674e-04  1.9623e-01  6.4331e-01  2.7766e-03  7.2643e-01  2.5958e-01\n",
      "  1.1025e-01  6.5774e-01  3.7236e-03  1.5015e-01  1.8181e-02  2.2259e-03\n",
      "  7.0041e-01  6.9154e-01  1.6063e-02  3.5931e-03  3.5264e-03  5.9055e-03\n",
      "  3.5509e-02  1.0879e-02  1.9886e-03  6.7761e-01  8.8135e-04  9.6166e-02\n",
      "  7.5405e-02  3.4658e-01  1.6956e-02  4.4324e-01  5.3296e-02  4.9182e-01\n",
      "  1.3874e-02  6.5981e-01  4.6456e-03  3.8186e-02  1.6609e-02  1.5443e-02\n",
      "  7.5262e-01  1.5080e-02  6.1050e-02  7.2721e-01  3.1750e-03  5.4704e-02\n",
      "  3.1540e-02]\n",
      "Reward value: -46.19255556590938\n",
      "Is Done: False\n",
      "The overall info: dict_keys(['time', 'rwd_dense', 'rwd_sparse', 'solved', 'done', 'obs_dict', 'visual_dict', 'proprio_dict', 'rwd_dict', 'state'])\n",
      "Info contained contained the info['state']: [[ 0.0309 -0.0392  0.097 ]\n",
      " [ 0.0277 -0.045   0.0227]\n",
      " [ 0.7614  0.6727  0.8709]\n",
      " ...\n",
      " [ 0.028   0.      0.    ]\n",
      " [ 0.      0.028   0.    ]\n",
      " [ 0.      0.      0.028 ]]\n"
     ]
    }
   ],
   "source": [
    "# random value as an action\n",
    "action = env.action_space.sample()\n",
    "\n",
    "observation_state, reward, done, info = env.step(action)\n",
    "\n",
    "# myoElbowPose1D6MRandom-v0 is a pose-type task\n",
    "# see definition here https://github.com/facebookresearch/myosuite/blob/1d45e4d5603a70487355902450006d3bd7828d43/myosuite/envs/myo/pose_v0.py#L89\n",
    "\n",
    "print(f\"Observation dimension {len(observation_state)}\")\n",
    "# Observation is composed of: qpos [1], qvel [1], act [6], pose_err [1]\n",
    "print(f\"Observation values: {observation_state}\")\n",
    "\n",
    "# Information about the task reward\n",
    "print(f\"Reward value: {reward}\")\n",
    "\n",
    "# Flag to check if the task is done\n",
    "print(f\"Is Done: {done}\")\n",
    "\n",
    "# All the info relative to the environment i.e. reward (dense/sparse), task is solved, ...\n",
    "print(f\"The overall info: {info.keys()}\")\n",
    "# Specifically, the information relative to the state\n",
    "print(f\"Info contained contained the info['state']: {info['state']['site_pos']}\")\n"
   ]
  },
  {
   "cell_type": "markdown",
   "metadata": {},
   "source": [
    "### Change Tasks targets"
   ]
  },
  {
   "cell_type": "code",
   "execution_count": 5,
   "metadata": {},
   "outputs": [
    {
     "ename": "AttributeError",
     "evalue": "'ReachEnvV0' object has no attribute 'target_reach_range'",
     "output_type": "error",
     "traceback": [
      "\u001b[1;31m---------------------------------------------------------------------------\u001b[0m",
      "\u001b[1;31mAttributeError\u001b[0m                            Traceback (most recent call last)",
      "Cell \u001b[1;32mIn[5], line 6\u001b[0m\n\u001b[0;32m      4\u001b[0m \u001b[38;5;28;01mfor\u001b[39;00m ep \u001b[38;5;129;01min\u001b[39;00m \u001b[38;5;28mrange\u001b[39m(\u001b[38;5;241m10\u001b[39m):\n\u001b[0;32m      5\u001b[0m   env_fix\u001b[38;5;241m.\u001b[39mreset()\n\u001b[1;32m----> 6\u001b[0m   \u001b[38;5;28mprint\u001b[39m(\u001b[38;5;124mf\u001b[39m\u001b[38;5;124m\"\u001b[39m\u001b[38;5;124mEpisode \u001b[39m\u001b[38;5;132;01m{\u001b[39;00mep\u001b[38;5;132;01m}\u001b[39;00m\u001b[38;5;124m, target: \u001b[39m\u001b[38;5;132;01m{\u001b[39;00menv_fix\u001b[38;5;241m.\u001b[39menv\u001b[38;5;241m.\u001b[39mtarget_reach_range\u001b[38;5;132;01m}\u001b[39;00m\u001b[38;5;124m\"\u001b[39m)\n\u001b[0;32m      8\u001b[0m \u001b[38;5;28;01mfor\u001b[39;00m ep \u001b[38;5;129;01min\u001b[39;00m \u001b[38;5;28mrange\u001b[39m(\u001b[38;5;241m10\u001b[39m):\n\u001b[0;32m      9\u001b[0m   env_rand\u001b[38;5;241m.\u001b[39mreset()\n",
      "\u001b[1;31mAttributeError\u001b[0m: 'ReachEnvV0' object has no attribute 'target_reach_range'"
     ]
    }
   ],
   "source": [
    "env_fix = gym.make('CenterReachOut-v0')\n",
    "env_rand = gym.make('CenterReachOut-v0')\n",
    "\n",
    "for ep in range(10):\n",
    "  env_fix.reset()\n",
    "  print(f\"Episode {ep}, target: {env_fix.env.target_reach_range}\")\n",
    "\n",
    "for ep in range(10):\n",
    "  env_rand.reset()\n",
    "  print(f\"Episode {ep}, target: {env_rand.env.target_reach_range}\")\n"
   ]
  },
  {
   "cell_type": "markdown",
   "metadata": {},
   "source": [
    "### POSEV0\n"
   ]
  },
  {
   "cell_type": "code",
   "execution_count": 6,
   "metadata": {},
   "outputs": [
    {
     "name": "stdout",
     "output_type": "stream",
     "text": [
      "Observation dimension 157\n",
      "Observation values: [-3.0841e-02  1.3591e-02 -4.1116e-02  6.1064e-02 -2.8753e-02  1.0578e-01\n",
      "  7.6219e-02 -1.0589e-01 -1.1786e-01  2.6207e-02  1.8451e-01  1.3027e-01\n",
      " -2.1759e-01 -1.9178e-01  1.5064e+00  1.1880e+00  2.2110e-01 -2.0768e-01\n",
      "  3.1850e-01  4.3380e-01 -1.6433e-01 -2.9239e-01  2.3776e-01  2.4255e-01\n",
      "  4.3751e-01  2.4048e-01  4.2341e-01 -4.1357e-02 -2.6193e-03  5.6670e-03\n",
      "  3.5305e-02 -3.8337e-02  2.6904e-01  1.9858e-01  3.3522e-01 -1.8870e-01\n",
      "  2.9391e-02  8.9042e-03 -2.0000e-01  0.0000e+00 -2.8236e-02  0.0000e+00\n",
      "  0.0000e+00  0.0000e+00  1.8116e-03 -1.1031e-03  1.9836e-02 -2.2333e-02\n",
      "  1.3151e-02 -3.8921e-02 -3.1871e-02  5.2028e-02  4.7467e-02 -1.0983e-02\n",
      "  8.3607e-03 -1.9180e-02  1.4139e-02 -4.1408e-02  4.3340e-02 -8.8887e-02\n",
      "  6.8731e-02  3.2446e-02 -8.1045e-03  1.0195e-02  6.5404e-03 -1.2756e-02\n",
      "  7.0224e-02  4.7161e-02  2.1692e-02 -1.3764e-02  9.3381e-02  2.7382e-02\n",
      " -8.7033e-03  1.3611e-03  3.5902e-02 -2.6552e-02  1.0733e-01 -4.2925e-02\n",
      "  4.8952e-02 -4.4583e-02  1.2995e-02 -7.6037e-03  0.0000e+00  0.0000e+00\n",
      " -7.8420e-03  0.0000e+00  0.0000e+00  0.0000e+00 -5.0000e-02 -2.0000e-01\n",
      "  1.0618e+00 -1.8763e-01 -4.2600e-02  1.3126e-02  7.5329e-02  3.9016e-01\n",
      "  5.7301e-01  2.8279e-01  3.4419e-01  7.3614e-01  4.9111e-01  2.0287e-01\n",
      "  1.0613e-01  3.8403e-02  2.0406e-01  1.3978e-01  4.8107e-01  4.9409e-02\n",
      "  1.8753e-01  4.4022e-02  7.1708e-01  5.2636e-02  5.3793e-03  5.1125e-01\n",
      "  2.7068e-01  6.0099e-01  3.4533e-01  2.9909e-01  8.3365e-01  7.1945e-01\n",
      "  8.3765e-02  6.4259e-01  2.2858e-01  6.8145e-01  1.8860e-01  1.9704e-03\n",
      "  3.6640e-01  7.0104e-01  1.2540e-02  3.3232e-01  1.4782e-01  7.3592e-01\n",
      "  2.7774e-02  4.9116e-02  7.4201e-02  3.9332e-01  6.5040e-02  7.0430e-02\n",
      "  5.6466e-02  2.1671e-01  1.4181e-02  3.3333e-01  4.0185e-02  2.8360e-01\n",
      "  1.4116e-02  7.4661e-01  1.3367e-01  2.9204e-02  1.5295e-02  7.8356e-01\n",
      "  3.7944e-01  1.3747e-02  3.7682e-01  7.2675e-01  3.0055e-01  4.2401e-02\n",
      "  1.4863e-01]\n",
      "Reward value: -46.192852468342295\n",
      "Is Done: False\n",
      "The overall info: dict_keys(['time', 'rwd_dense', 'rwd_sparse', 'solved', 'done', 'obs_dict', 'visual_dict', 'proprio_dict', 'rwd_dict', 'state'])\n",
      "Info contained contained the info['state']: [[ 0.0309 -0.0392  0.097 ]\n",
      " [ 0.0277 -0.045   0.0227]\n",
      " [ 0.7614  0.6727  0.8709]\n",
      " ...\n",
      " [ 0.028   0.      0.    ]\n",
      " [ 0.      0.028   0.    ]\n",
      " [ 0.      0.      0.028 ]]\n"
     ]
    }
   ],
   "source": [
    "# random value as an action\n",
    "action = env.action_space.sample()\n",
    "\n",
    "observation_state, reward, done, info = env.step(action)\n",
    "\n",
    "# myoElbowPose1D6MRandom-v0 is a pose-type task\n",
    "# see definition here https://github.com/facebookresearch/myosuite/blob/1d45e4d5603a70487355902450006d3bd7828d43/myosuite/envs/myo/pose_v0.py#L89\n",
    "\n",
    "print(f\"Observation dimension {len(observation_state)}\")\n",
    "# Observation is composed of: qpos [1], qvel [1], act [6], pose_err [1]\n",
    "print(f\"Observation values: {observation_state}\")\n",
    "\n",
    "# Information about the task reward\n",
    "print(f\"Reward value: {reward}\")\n",
    "\n",
    "# Flag to check if the task is done\n",
    "print(f\"Is Done: {done}\")\n",
    "\n",
    "# All the info relative to the environment i.e. reward (dense/sparse), task is solved, ...\n",
    "print(f\"The overall info: {info.keys()}\")\n",
    "# Specifically, the information relative to the state\n",
    "print(f\"Info contained contained the info['state']: {info['state']['site_pos']}\")\n"
   ]
  },
  {
   "cell_type": "code",
   "execution_count": 7,
   "metadata": {},
   "outputs": [
    {
     "ename": "UnregisteredEnv",
     "evalue": "No registered env with id: myoArmPoseFixed-v0",
     "output_type": "error",
     "traceback": [
      "\u001b[1;31m---------------------------------------------------------------------------\u001b[0m",
      "\u001b[1;31mKeyError\u001b[0m                                  Traceback (most recent call last)",
      "File \u001b[1;32mc:\\Users\\Elyas\\anaconda3\\envs\\myosuit\\lib\\site-packages\\gym\\envs\\registration.py:132\u001b[0m, in \u001b[0;36mEnvRegistry.spec\u001b[1;34m(self, path)\u001b[0m\n\u001b[0;32m    131\u001b[0m \u001b[38;5;28;01mtry\u001b[39;00m:\n\u001b[1;32m--> 132\u001b[0m     \u001b[38;5;28;01mreturn\u001b[39;00m \u001b[38;5;28;43mself\u001b[39;49m\u001b[38;5;241;43m.\u001b[39;49m\u001b[43menv_specs\u001b[49m\u001b[43m[\u001b[49m\u001b[38;5;28;43mid\u001b[39;49m\u001b[43m]\u001b[49m\n\u001b[0;32m    133\u001b[0m \u001b[38;5;28;01mexcept\u001b[39;00m \u001b[38;5;167;01mKeyError\u001b[39;00m:\n\u001b[0;32m    134\u001b[0m     \u001b[38;5;66;03m# Parse the env name and check to see if it matches the non-version\u001b[39;00m\n\u001b[0;32m    135\u001b[0m     \u001b[38;5;66;03m# part of a valid env (could also check the exact number here)\u001b[39;00m\n",
      "\u001b[1;31mKeyError\u001b[0m: 'myoArmPoseFixed-v0'",
      "\nDuring handling of the above exception, another exception occurred:\n",
      "\u001b[1;31mUnregisteredEnv\u001b[0m                           Traceback (most recent call last)",
      "Cell \u001b[1;32mIn[7], line 2\u001b[0m\n\u001b[0;32m      1\u001b[0m \u001b[38;5;66;03m# Only for Elbow, test different posture\u001b[39;00m\n\u001b[1;32m----> 2\u001b[0m env \u001b[38;5;241m=\u001b[39m \u001b[43mgym\u001b[49m\u001b[38;5;241;43m.\u001b[39;49m\u001b[43mmake\u001b[49m\u001b[43m(\u001b[49m\u001b[38;5;124;43m'\u001b[39;49m\u001b[38;5;124;43mmyoArmPoseFixed-v0\u001b[39;49m\u001b[38;5;124;43m'\u001b[39;49m\u001b[43m)\u001b[49m\n\u001b[0;32m      3\u001b[0m \u001b[38;5;66;03m# Sequence of test angles\u001b[39;00m\n\u001b[0;32m      4\u001b[0m AngleSequence \u001b[38;5;241m=\u001b[39m [\u001b[38;5;241m60\u001b[39m, \u001b[38;5;241m0\u001b[39m, \u001b[38;5;241m80\u001b[39m, \u001b[38;5;241m30\u001b[39m]\n",
      "File \u001b[1;32mc:\\Users\\Elyas\\anaconda3\\envs\\myosuit\\lib\\site-packages\\gym\\envs\\registration.py:156\u001b[0m, in \u001b[0;36mmake\u001b[1;34m(id, **kwargs)\u001b[0m\n\u001b[0;32m    155\u001b[0m \u001b[38;5;28;01mdef\u001b[39;00m \u001b[38;5;21mmake\u001b[39m(\u001b[38;5;28mid\u001b[39m, \u001b[38;5;241m*\u001b[39m\u001b[38;5;241m*\u001b[39mkwargs):\n\u001b[1;32m--> 156\u001b[0m     \u001b[38;5;28;01mreturn\u001b[39;00m \u001b[43mregistry\u001b[49m\u001b[38;5;241;43m.\u001b[39;49m\u001b[43mmake\u001b[49m\u001b[43m(\u001b[49m\u001b[38;5;28;43mid\u001b[39;49m\u001b[43m,\u001b[49m\u001b[43m \u001b[49m\u001b[38;5;241;43m*\u001b[39;49m\u001b[38;5;241;43m*\u001b[39;49m\u001b[43mkwargs\u001b[49m\u001b[43m)\u001b[49m\n",
      "File \u001b[1;32mc:\\Users\\Elyas\\anaconda3\\envs\\myosuit\\lib\\site-packages\\gym\\envs\\registration.py:100\u001b[0m, in \u001b[0;36mEnvRegistry.make\u001b[1;34m(self, path, **kwargs)\u001b[0m\n\u001b[0;32m     98\u001b[0m \u001b[38;5;28;01melse\u001b[39;00m:\n\u001b[0;32m     99\u001b[0m     logger\u001b[38;5;241m.\u001b[39minfo(\u001b[38;5;124m'\u001b[39m\u001b[38;5;124mMaking new env: \u001b[39m\u001b[38;5;132;01m%s\u001b[39;00m\u001b[38;5;124m'\u001b[39m, path)\n\u001b[1;32m--> 100\u001b[0m spec \u001b[38;5;241m=\u001b[39m \u001b[38;5;28;43mself\u001b[39;49m\u001b[38;5;241;43m.\u001b[39;49m\u001b[43mspec\u001b[49m\u001b[43m(\u001b[49m\u001b[43mpath\u001b[49m\u001b[43m)\u001b[49m\n\u001b[0;32m    101\u001b[0m env \u001b[38;5;241m=\u001b[39m spec\u001b[38;5;241m.\u001b[39mmake(\u001b[38;5;241m*\u001b[39m\u001b[38;5;241m*\u001b[39mkwargs)\n\u001b[0;32m    102\u001b[0m \u001b[38;5;66;03m# We used to have people override _reset/_step rather than\u001b[39;00m\n\u001b[0;32m    103\u001b[0m \u001b[38;5;66;03m# reset/step. Set _gym_disable_underscore_compat = True on\u001b[39;00m\n\u001b[0;32m    104\u001b[0m \u001b[38;5;66;03m# your environment if you use these methods and don't want\u001b[39;00m\n\u001b[0;32m    105\u001b[0m \u001b[38;5;66;03m# compatibility code to be invoked.\u001b[39;00m\n",
      "File \u001b[1;32mc:\\Users\\Elyas\\anaconda3\\envs\\myosuit\\lib\\site-packages\\gym\\envs\\registration.py:142\u001b[0m, in \u001b[0;36mEnvRegistry.spec\u001b[1;34m(self, path)\u001b[0m\n\u001b[0;32m    140\u001b[0m     \u001b[38;5;28;01mraise\u001b[39;00m error\u001b[38;5;241m.\u001b[39mDeprecatedEnv(\u001b[38;5;124m'\u001b[39m\u001b[38;5;124mEnv \u001b[39m\u001b[38;5;132;01m{}\u001b[39;00m\u001b[38;5;124m not found (valid versions include \u001b[39m\u001b[38;5;132;01m{}\u001b[39;00m\u001b[38;5;124m)\u001b[39m\u001b[38;5;124m'\u001b[39m\u001b[38;5;241m.\u001b[39mformat(\u001b[38;5;28mid\u001b[39m, matching_envs))\n\u001b[0;32m    141\u001b[0m \u001b[38;5;28;01melse\u001b[39;00m:\n\u001b[1;32m--> 142\u001b[0m     \u001b[38;5;28;01mraise\u001b[39;00m error\u001b[38;5;241m.\u001b[39mUnregisteredEnv(\u001b[38;5;124m'\u001b[39m\u001b[38;5;124mNo registered env with id: \u001b[39m\u001b[38;5;132;01m{}\u001b[39;00m\u001b[38;5;124m'\u001b[39m\u001b[38;5;241m.\u001b[39mformat(\u001b[38;5;28mid\u001b[39m))\n",
      "\u001b[1;31mUnregisteredEnv\u001b[0m: No registered env with id: myoArmPoseFixed-v0"
     ]
    }
   ],
   "source": [
    "# Only for Elbow, test different posture\n",
    "env = gym.make('myoArmPoseFixed-v0')\n",
    "# Sequence of test angles\n",
    "AngleSequence = [60, 0, 80, 30]\n",
    "# Flag to enable a sequence of different fixed targets\n",
    "env.env.target_type = 'fixed'\n",
    "\n",
    "env.reset()\n",
    "frames = []\n",
    "for ep in range(len(AngleSequence)):\n",
    "    print(\"Ep {} of {} testing angle {}\".format(ep, len(AngleSequence), AngleSequence[ep]))\n",
    "\n",
    "    # Set the new target value\n",
    "    env.env.target_jnt_value = [np.deg2rad(AngleSequence[int(ep)])]\n",
    "    # Update the target value\n",
    "    env.env.update_target()\n",
    "\n",
    "    for _ in range(20):\n",
    "        frames.append(env.sim.renderer.render_offscreen(\n",
    "                        width=400,\n",
    "                        height=400,\n",
    "                        camera_id=0))\n",
    "        o = env.get_obs()\n",
    "        a = pi.get_action(o)[0]\n",
    "        next_o, r, done, _ = env.step(a) # take an action based on the current observation\n",
    "env.close()\n",
    "\n",
    "os.makedirs('videos', exist_ok=True)\n",
    "# make a local copy\n",
    "skvideo.io.vwrite('videos/arm.mp4', np.asarray(frames),outputdict={\"-pix_fmt\": \"yuv420p\"})\n",
    "show_video('videos/arm.mp4')"
   ]
  },
  {
   "cell_type": "markdown",
   "metadata": {},
   "source": [
    "### Moves Arm Model by changing actuator intensity \n",
    "//==============================================="
   ]
  },
  {
   "cell_type": "code",
   "execution_count": 9,
   "metadata": {},
   "outputs": [
    {
     "name": "stdout",
     "output_type": "stream",
     "text": [
      "Muscles:\n",
      "[0, 'DELT1']\n",
      "[1, 'DELT2']\n",
      "[2, 'DELT3']\n",
      "[3, 'SUPSP']\n",
      "[4, 'INFSP']\n",
      "[5, 'SUBSC']\n",
      "[6, 'TMIN']\n",
      "[7, 'TMAJ']\n",
      "[8, 'PECM1']\n",
      "[9, 'PECM2']\n",
      "[10, 'PECM3']\n",
      "[11, 'LAT1']\n",
      "[12, 'LAT2']\n",
      "[13, 'LAT3']\n",
      "[14, 'CORB']\n",
      "[15, 'TRIlong']\n",
      "[16, 'TRIlat']\n",
      "[17, 'TRImed']\n",
      "[18, 'ANC']\n",
      "[19, 'SUP']\n",
      "[20, 'BIClong']\n",
      "[21, 'BICshort']\n",
      "[22, 'BRA']\n",
      "[23, 'BRD']\n",
      "[24, 'ECRL']\n",
      "[25, 'ECRB']\n",
      "[26, 'ECU']\n",
      "[27, 'FCR']\n",
      "[28, 'FCU']\n",
      "[29, 'PL']\n",
      "[30, 'PT']\n",
      "[31, 'PQ']\n",
      "[32, 'FDS5']\n",
      "[33, 'FDS4']\n",
      "[34, 'FDS3']\n",
      "[35, 'FDS2']\n",
      "[36, 'FDP5']\n",
      "[37, 'FDP4']\n",
      "[38, 'FDP3']\n",
      "[39, 'FDP2']\n",
      "[40, 'EDC5']\n",
      "[41, 'EDC4']\n",
      "[42, 'EDC3']\n",
      "[43, 'EDC2']\n",
      "[44, 'EDM']\n",
      "[45, 'EIP']\n",
      "[46, 'EPL']\n",
      "[47, 'EPB']\n",
      "[48, 'FPL']\n",
      "[49, 'APL']\n",
      "[50, 'OP']\n",
      "[51, 'RI2']\n",
      "[52, 'LU_RB2']\n",
      "[53, 'UI_UB2']\n",
      "[54, 'RI3']\n",
      "[55, 'LU_RB3']\n",
      "[56, 'UI_UB3']\n",
      "[57, 'RI4']\n",
      "[58, 'LU_RB4']\n",
      "[59, 'UI_UB4']\n",
      "[60, 'RI5']\n",
      "[61, 'LU_RB5']\n",
      "[62, 'UI_UB5']\n",
      "\n",
      "Joints:\n",
      "[0, 'sternoclavicular_r2']\n",
      "[1, 'sternoclavicular_r3']\n",
      "[2, 'unrotscap_r3']\n",
      "[3, 'unrotscap_r2']\n",
      "[4, 'acromioclavicular_r2']\n",
      "[5, 'acromioclavicular_r3']\n",
      "[6, 'acromioclavicular_r1']\n",
      "[7, 'unrothum_r1']\n",
      "[8, 'unrothum_r3']\n",
      "[9, 'unrothum_r2']\n",
      "[10, 'elv_angle']\n",
      "[11, 'shoulder_elv']\n",
      "[12, 'shoulder1_r2']\n",
      "[13, 'shoulder_rot']\n",
      "[14, 'elbow_flexion']\n",
      "[15, 'pro_sup']\n",
      "[16, 'deviation']\n",
      "[17, 'flexion']\n",
      "[18, 'cmc_abduction']\n",
      "[19, 'cmc_flexion']\n",
      "[20, 'mp_flexion']\n",
      "[21, 'ip_flexion']\n",
      "[22, 'mcp2_flexion']\n",
      "[23, 'mcp2_abduction']\n",
      "[24, 'pm2_flexion']\n",
      "[25, 'md2_flexion']\n",
      "[26, 'mcp3_flexion']\n",
      "[27, 'mcp3_abduction']\n",
      "[28, 'pm3_flexion']\n",
      "[29, 'md3_flexion']\n",
      "[30, 'mcp4_flexion']\n",
      "[31, 'mcp4_abduction']\n",
      "[32, 'pm4_flexion']\n",
      "[33, 'md4_flexion']\n",
      "[34, 'mcp5_flexion']\n",
      "[35, 'mcp5_abduction']\n",
      "[36, 'pm5_flexion']\n",
      "[37, 'md5_flexion']\n",
      "[38, 'OBJTx']\n",
      "[39, 'OBJTy']\n",
      "[40, 'OBJTz']\n",
      "[41, 'OBJRx']\n",
      "[42, 'OBJRy']\n",
      "[43, 'OBJRz']\n"
     ]
    }
   ],
   "source": [
    "\n",
    "env = gym.make('CenterReachOut-v0', normalize_act = False) #Change the task depending on what model/environment you want to use\n",
    "\n",
    "env.reset()\n",
    "\n",
    "env.env.init_qpos[:] = np.zeros(len(env.env.init_qpos),)\n",
    "mjcModel = env.sim.model\n",
    "\n",
    "print(\"Muscles:\")\n",
    "for i in range(mjcModel.na):\n",
    "     a = print([i,mjcModel.actuator(i).name])\n",
    "\n",
    "print(\"\\nJoints:\")\n",
    "for i in range(mjcModel.njnt):\n",
    "     b = print([i,mjcModel.joint(i).name])"
   ]
  },
  {
   "cell_type": "markdown",
   "metadata": {},
   "source": [
    "<h2> Changing actuator activation levels for movement </h2>"
   ]
  },
  {
   "cell_type": "code",
   "execution_count": 10,
   "metadata": {},
   "outputs": [
    {
     "name": "stdout",
     "output_type": "stream",
     "text": [
      "[11]\n",
      "500\n",
      "iteration: 0\n",
      "iteration: 1\n",
      "iteration: 2\n",
      "iteration: 3\n",
      "iteration: 4\n"
     ]
    },
    {
     "data": {
      "text/html": [],
      "text/plain": [
       "<IPython.core.display.HTML object>"
      ]
     },
     "execution_count": 10,
     "metadata": {},
     "output_type": "execute_result"
    }
   ],
   "source": [
    "\n",
    "musc_fe = [mjcModel.actuator('LAT1').id] #Appends id values of actuators to list (Change depending on desired movement)\n",
    "print(musc_fe)\n",
    "L_range = round(1/mjcModel.opt.timestep) \n",
    "print(L_range)\n",
    "skip_frame = 50\n",
    "\n",
    "\n",
    "frames_sim = []\n",
    "for iter_n in range(5):\n",
    "    print(\"iteration: \"+str(iter_n))\n",
    "    res_sim = []\n",
    "    act_val = 0\n",
    "    ctrl = np.zeros(mjcModel.na,)\n",
    "    for rp in range(10): \n",
    "        ctrl[musc_fe[0]] = -0.6\n",
    "        increment = 1/L_range\n",
    "        for s in range(L_range):\n",
    "            if not(s%skip_frame):\n",
    "                frame = env.sim.renderer.render_offscreen(\n",
    "                                width=400,\n",
    "                                height=400,\n",
    "                                camera_id=0) #Arm Model context: id=0 (side cam) id = 1 (far front) , id  = 2 and 3 (close view front/back)\n",
    "                frames_sim.append(frame)\n",
    "            \n",
    "            ctrl = np.zeros(mjcModel.na,)\n",
    "            act_val =+ increment\n",
    "            ctrl[musc_fe[0]] = act_val+increment                  \n",
    "            env.step(ctrl)\n",
    "\n",
    "os.makedirs('videos', exist_ok=True)\n",
    "video_path = 'videos/test_policy.mp4'\n",
    "\n",
    "\n",
    "imageio.mimsave(video_path, frames_sim, fps=30)\n",
    "\n",
    "show_video(video_path)\n"
   ]
  }
 ],
 "metadata": {
  "kernelspec": {
   "display_name": "Python 3",
   "language": "python",
   "name": "python3"
  },
  "language_info": {
   "codemirror_mode": {
    "name": "ipython",
    "version": 3
   },
   "file_extension": ".py",
   "mimetype": "text/x-python",
   "name": "python",
   "nbconvert_exporter": "python",
   "pygments_lexer": "ipython3",
   "version": "3.8.18"
  }
 },
 "nbformat": 4,
 "nbformat_minor": 2
}
