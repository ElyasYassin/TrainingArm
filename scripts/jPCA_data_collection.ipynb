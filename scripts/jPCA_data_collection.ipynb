{
 "cells": [
  {
   "cell_type": "code",
   "execution_count": 1,
   "metadata": {},
   "outputs": [
    {
     "name": "stdout",
     "output_type": "stream",
     "text": [
      "MyoSuite:> Registering Myo Envs\n"
     ]
    }
   ],
   "source": [
    "import myosuite\n",
    "import gym\n",
    "import skvideo.io\n",
    "import numpy as np\n",
    "import os\n",
    "import imageio\n",
    "import tqdm\n",
    "import time"
   ]
  },
  {
   "cell_type": "code",
   "execution_count": 2,
   "metadata": {},
   "outputs": [],
   "source": [
    "from IPython.display import HTML\n",
    "from base64 import b64encode\n",
    "\n",
    "def show_video(video_path, video_width = 400):\n",
    "\n",
    "  video_file = open(video_path, \"r+b\").read()\n",
    "\n",
    "  video_url = f\"data:video/mp4;base64,{b64encode(video_file).decode()}\"\n",
    "  return HTML(f\"\"\"<video autoplay width={video_width} controls><source src=\"{video_url}\"></video>\"\"\")\n"
   ]
  },
  {
   "cell_type": "markdown",
   "metadata": {},
   "source": [
    "<h2> Create an A matrix with T x N (time x mean firing rate)"
   ]
  },
  {
   "cell_type": "markdown",
   "metadata": {},
   "source": [
    "<h3> Get Policy mjrl"
   ]
  },
  {
   "cell_type": "code",
   "execution_count": 3,
   "metadata": {},
   "outputs": [],
   "source": [
    "policy = \"models/LSTM_Trained/iterations/best_policy.pickle\" #Change the folder to the policy location\n",
    "\n",
    "import pickle\n",
    "# load policy\n",
    "pi = pickle.load(open(policy, 'rb'))\n"
   ]
  },
  {
   "cell_type": "markdown",
   "metadata": {},
   "source": [
    "<h3> Get Policy sb3"
   ]
  },
  {
   "cell_type": "code",
   "execution_count": 8,
   "metadata": {},
   "outputs": [],
   "source": [
    "from stable_baselines3 import PPO\n",
    "import os\n",
    "from sb3_contrib import RecurrentPPO\n",
    "\n",
    "env = gym.make('CenterReachOut-v0')\n",
    "\n",
    "model = RecurrentPPO.load(\"test\", env=env)"
   ]
  },
  {
   "cell_type": "markdown",
   "metadata": {},
   "source": [
    "<h2> Setup data collection for mjrl policy </h2>"
   ]
  },
  {
   "cell_type": "code",
   "execution_count": 17,
   "metadata": {},
   "outputs": [
    {
     "name": "stdout",
     "output_type": "stream",
     "text": [
      "[-0.3680450158763584, -0.07925561667782058, 1.07]\n",
      "[-0.3680450158763584, -0.07925561667782058, 1.07]\n"
     ]
    },
    {
     "ename": "ValueError",
     "evalue": "The truth value of an array with more than one element is ambiguous. Use a.any() or a.all()",
     "output_type": "error",
     "traceback": [
      "\u001b[1;31m---------------------------------------------------------------------------\u001b[0m",
      "\u001b[1;31mValueError\u001b[0m                                Traceback (most recent call last)",
      "Cell \u001b[1;32mIn[17], line 31\u001b[0m\n\u001b[0;32m     28\u001b[0m obs \u001b[38;5;241m=\u001b[39m env\u001b[38;5;241m.\u001b[39mreset()\n\u001b[0;32m     30\u001b[0m \u001b[38;5;28;01mfor\u001b[39;00m x \u001b[38;5;129;01min\u001b[39;00m conditions:\n\u001b[1;32m---> 31\u001b[0m   \u001b[38;5;28;01mif\u001b[39;00m \u001b[43menv\u001b[49m\u001b[38;5;241;43m.\u001b[39;49m\u001b[43mobs_dict\u001b[49m\u001b[43m[\u001b[49m\u001b[38;5;124;43m'\u001b[39;49m\u001b[38;5;124;43mobj_pos\u001b[39;49m\u001b[38;5;124;43m'\u001b[39;49m\u001b[43m]\u001b[49m\u001b[38;5;241;43m.\u001b[39;49m\u001b[43mall\u001b[49m\u001b[43m(\u001b[49m\u001b[43m)\u001b[49m\u001b[43m \u001b[49m\u001b[38;5;241;43m==\u001b[39;49m\u001b[43m \u001b[49m\u001b[43mx\u001b[49m:\n\u001b[0;32m     32\u001b[0m     \u001b[38;5;28;01mcontinue\u001b[39;00m\n\u001b[0;32m     34\u001b[0m conditions\u001b[38;5;241m.\u001b[39mappend(env\u001b[38;5;241m.\u001b[39mobs_dict[\u001b[38;5;124m'\u001b[39m\u001b[38;5;124mobj_pos\u001b[39m\u001b[38;5;124m'\u001b[39m])\n",
      "\u001b[1;31mValueError\u001b[0m: The truth value of an array with more than one element is ambiguous. Use a.any() or a.all()"
     ]
    }
   ],
   "source": [
    "# Use sleep if you want to examine certain steps during the episodes\n",
    "from time import sleep\n",
    "import torch\n",
    "\n",
    "env = gym.make('CenterReachOut-v0')\n",
    "frames = [] \n",
    "\n",
    "\n",
    "NeuralData = {}\n",
    "MuscleActData = {}\n",
    "FiberJointData = {}\n",
    "FiberData = {}\n",
    "JointData = {}\n",
    "\n",
    "conditions = {}\n",
    "\n",
    "for ep_num in range(108):  #Number of episodes\n",
    "  NeuralData[ep_num] = []\n",
    "  MuscleActData[ep_num] = []\n",
    "  FiberJointData[ep_num] = []\n",
    "  FiberData[ep_num] = []\n",
    "  JointData[ep_num] = []\n",
    "  \n",
    "  timestep = 0\n",
    "  env.reset()\n",
    "  print(ep_num)\n",
    "  ep_rewards = []\n",
    "  done = False\n",
    "  obs = env.reset()\n",
    "  \n",
    "\n",
    "  for ac_num in range(16): # Number of steps per episode / Each time step is 0.05 seconds\n",
    "      timestep += 0.05\n",
    "      frame = env.sim.renderer.render_offscreen(\n",
    "                        width=400,\n",
    "                        height=400,\n",
    "                        camera_id=1)\n",
    "      frames.append(frame)\n",
    "      # We're appending data of each timestep to an epsiode number key\n",
    "      o = env.get_obs()\n",
    "      action, _ = pi.get_action(o)\n",
    "      # For the mjrl policy \n",
    "      # For OG_Model \n",
    "      #NeuralData[ep_num].append(np.concatenate((pi.show_activations()[\"layer_0\"][0],pi.show_activations()[\"layer_1\"][0] )))\n",
    "\n",
    "      # For LSTM (Both layers)\n",
    "      #NeuralData[ep_num].append(np.concatenate((pi.show_activations()[0].detach().numpy()[0][0],pi.show_activations()[1].detach().numpy()[0])))\n",
    "      # For LSTM (Only the recurrent layer)\n",
    "      NeuralData[ep_num].append(pi.show_activations()[0].detach().numpy()[0][0])\n",
    "\n",
    "      #NeuralData[ep_num].append(torch.cat((model.policy.activations[0], model.policy.activations[1]), dim=0).flatten().cpu().numpy())\n",
    "      MuscleActData[ep_num].append(env.obs_dict['act'])\n",
    "      FiberJointData[ep_num].append(np.concatenate((env.obs_dict['hand_qpos'],env.obs_dict['hand_qvel'], env.sim.data.actuator_length[:].copy(), env.sim.data.actuator_velocity[:].copy())))\n",
    "      FiberData[ep_num].append(np.concatenate((env.obs_dict['hand_qpos'], env.obs_dict['hand_qvel'])))\n",
    "      JointData[ep_num].append(np.concatenate((env.sim.data.actuator_length[:].copy(), env.sim.data.actuator_velocity[:].copy())))\n",
    "\n",
    "      obs, reward, done, info = env.step(action)\n",
    "            \n",
    "\n",
    "env.close()\n",
    "\n",
    "\n",
    "os.makedirs('videos', exist_ok=True)\n",
    "video_path = 'videos/test_policy.mp4'\n",
    "# make a local copy\n",
    "imageio.mimsave(video_path, frames, fps=30)\n",
    "show_video('videos/test_policy.mp4')"
   ]
  },
  {
   "cell_type": "code",
   "execution_count": 26,
   "metadata": {},
   "outputs": [
    {
     "name": "stdout",
     "output_type": "stream",
     "text": [
      "Neural Data: [0.0699 0.2263 0.2639 0.3672 0.135  0.0479 0.1216 0.191  0.1521 0.1543\n",
      " 0.0735 0.2537 0.0823 0.1469 0.1185 0.1276 0.5803 0.0714 0.12   0.2026\n",
      " 0.3774 0.282  0.1012 0.177  0.1053 0.2013 0.085  0.1249 0.2088 0.1908\n",
      " 0.6802 0.4429 0.23   0.0564 0.5215 0.1598 0.7503 0.453  0.4205 0.2658\n",
      " 0.0839 0.0982 0.1315 0.2494 0.0608 0.2237 0.2344 0.2752 0.2765 0.4951\n",
      " 0.1193 0.844  0.1674 0.2272 0.6186 0.0842 0.1956 0.9057 0.092  0.6061\n",
      " 0.1539 0.5453 0.9172 0.4656 0.0618 0.395  0.4264 0.1443 0.0951 0.8505\n",
      " 0.238  0.1088 0.4162 0.4441 0.1811 0.6551 0.198  0.1095 0.0645 0.7039\n",
      " 0.3572 0.703  0.1712 0.6509 0.1852 0.0767 0.0927 0.469  0.2601 0.8526\n",
      " 0.0877 0.0737 0.2538 0.3513 0.1138 0.4622 0.1655 0.1293 0.1407 0.1892\n",
      " 0.1801 0.8052 0.0818 0.1519 0.4684 0.1394 0.1194 0.5573 0.2554 0.1799\n",
      " 0.3411 0.1922 0.186  0.325  0.2227 0.3433 0.2472 0.0726 0.0699 0.1667\n",
      " 0.1668 0.0876 0.0594 0.1144 0.2453 0.071  0.1185 0.2639 0.1378 0.1467\n",
      " 0.1844 0.1662 0.3511 0.035  0.1095 0.2165 0.1409 0.1284 0.2471 0.6239\n",
      " 0.0465 0.1233 0.1689 0.2101 0.2502 0.6239 0.0998 0.3534 0.1599 0.0892\n",
      " 0.8959 0.0804 0.3373 0.1191 0.0647 0.1714 0.5146 0.1791 0.0919 0.1541\n",
      " 0.0957 0.074  0.2246 0.0747 0.0902 0.1364 0.1641 0.0939 0.0762 0.1226\n",
      " 0.3408 0.3107 0.3286 0.0958 0.5705 0.0897 0.1145 0.1565 0.1781 0.1026\n",
      " 0.1139 0.1513 0.1535 0.1029 0.5099 0.7172 0.2903 0.0308 0.1712 0.1941\n",
      " 0.5501 0.205  0.1291 0.0814 0.1173 0.115  0.7312 0.1025 0.5335 0.1078\n",
      " 0.0996 0.1454 0.0775 0.1064 0.074  0.2749 0.062  0.2771 0.476  0.3575\n",
      " 0.0628 0.1514 0.0568 0.0907 0.1423 0.3479 0.7083 0.1795 0.1229 0.2247\n",
      " 0.1094 0.4454 0.2582 0.4756 0.2116 0.1328 0.0565 0.6838 0.1286 0.0628\n",
      " 0.1042 0.2317 0.0676 0.0627 0.1307 0.0971 0.1017 0.4654 0.2878 0.1789\n",
      " 0.1157 0.4685 0.4773 0.1576 0.1496 0.0802 0.0606 0.4518 0.2571 0.1428\n",
      " 0.0464 0.1163 0.0629 0.14   0.1322 0.1003 0.4606 0.3311 0.0705 0.0815\n",
      " 0.9488 0.1617 0.6206 0.8707 0.0629 0.6994 0.7363 0.5674 0.9353 0.1746\n",
      " 0.0864 0.9663 0.6571 0.9626 0.967  0.071  0.0455 0.9903 0.0107 0.5821\n",
      " 0.9564 0.5696 0.9952 0.3432 0.0481 0.9182 0.8951 0.9156 0.9706 0.9016\n",
      " 0.0299 0.7674 0.5607 0.043  0.0205 0.9064 0.0074 0.8472 0.9598 0.9751\n",
      " 0.2523 0.903  0.0343 0.7608 0.0731 0.7987 0.8435 0.7071 0.9294 0.9861\n",
      " 0.537  0.1581 0.1333 0.0359 0.9955 0.8537 0.4204 0.1668 0.9821 0.7656\n",
      " 0.1329 0.2596 0.0751 0.3326 0.9423 0.1108 0.6488 0.9655 0.9058 0.0117\n",
      " 0.8778 0.483  0.8292 0.7134 0.2208 0.0085 0.1171 0.3095 0.9242 0.6533\n",
      " 0.0913 0.2161 0.609  0.955  0.452  0.6473 0.8443 0.9366 0.0974 0.9478\n",
      " 0.4114 0.1823 0.0584 0.023  0.2795 0.0688 0.9969 0.9753 0.9337 0.7482\n",
      " 0.9741 0.7088 0.064  0.9245 0.0507 0.0153 0.0815 0.8895 0.9499 0.0261\n",
      " 0.1051 0.9766 0.972  0.9507 0.1617 0.0295 0.1379 0.7602 0.9659 0.9868\n",
      " 0.1964 0.853  0.1963 0.9931 0.0446 0.9899 0.3011 0.3949 0.8829 0.0653\n",
      " 0.9011 0.3916 0.9391 0.932  0.1414 0.9331 0.1972 0.8485 0.7961 0.8517\n",
      " 0.8898 0.9894 0.0099 0.0084 0.4742 0.1813 0.3828 0.943  0.9592 0.9334\n",
      " 0.6519 0.9061 0.2855 0.8195 0.6041 0.9746 0.5391 0.9192 0.2036 0.1203\n",
      " 0.0063 0.9229 0.9612 0.3367 0.993  0.9803 0.1228 0.8919 0.3034 0.9873\n",
      " 0.2066 0.9541 0.0608 0.6421 0.7137 0.0332 0.3005 0.2312 0.9927 0.7917\n",
      " 0.9692 0.1785 0.8792 0.2594 0.4444 0.7225 0.9958 0.0587 0.4145 0.8806\n",
      " 0.005  0.9626 0.9867 0.0439 0.024  0.8014 0.1657 0.9853 0.6435 0.9959\n",
      " 0.0192 0.0571 0.0097 0.9456 0.972  0.6986 0.9364 0.0266 0.9744 0.0741\n",
      " 0.8487 0.027  0.9615 0.0214 0.1732 0.8993 0.0865 0.91   0.041  0.3028\n",
      " 0.4173 0.9733 0.1135 0.4366 0.4169 0.9849 0.7374 0.1021 0.1736 0.3424\n",
      " 0.862  0.9944 0.9741 0.0647 0.8795 0.3756 0.9232 0.0219 0.2126 0.9214\n",
      " 0.6532 0.9431 0.867  0.0146 0.8183 0.1856 0.7901 0.4361 0.7587 0.0194\n",
      " 0.8783 0.9055] \n",
      " length: 512\n",
      "Muscle Actuator Data: [8.4063e-001 8.4063e-001 8.4063e-001 8.4063e-001 3.2006e-022 8.9225e-060\n",
      " 2.2647e-037 2.4984e-063 8.4063e-001 8.4063e-001 2.4584e-021 2.3134e-017\n",
      " 4.2715e-009 9.9388e-017 6.0696e-013 8.4063e-001 8.4063e-001 8.4063e-001\n",
      " 8.4063e-001 1.2817e-005 1.0979e-023 2.4035e-024 2.2133e-038 1.9224e-020\n",
      " 8.4063e-001 2.9820e-017 8.4063e-001 8.4063e-001 8.4063e-001 1.7910e-014\n",
      " 8.3738e-001 2.8835e-026 8.4063e-001 8.4063e-001 8.4063e-001 8.4063e-001\n",
      " 8.4063e-001 8.4063e-001 3.6039e-033 1.1305e-060 8.4063e-001 1.1750e-006\n",
      " 4.4531e-051 5.5336e-018 3.3469e-049 8.4063e-001 8.4063e-001 5.6802e-047\n",
      " 8.4063e-001 3.9040e-018 3.8362e-003 1.3565e-138 8.3686e-001 9.2360e-013\n",
      " 8.1346e-001 4.2131e-015 8.4063e-001 7.6615e-001 3.4435e-013 5.3520e-005\n",
      " 8.4056e-001 8.4063e-001 8.4063e-001]\n",
      " length: 63\n",
      "Fiber/Joint Angle/Joint Velocity Data: [-3.0680e-02  1.3427e-02 -6.3909e-02  8.5988e-02 -4.1320e-02  1.4458e-01\n",
      "  1.0736e-01 -1.6090e-01 -1.6689e-01  3.5166e-02  1.7607e-01  1.6029e-01\n",
      " -2.3666e-01 -9.4740e-02  1.4187e+00  1.1928e+00  1.0317e-01 -2.2707e-01\n",
      "  3.7007e-01  2.7053e-01 -2.0059e-01 -3.9390e-01  2.5098e-01  2.2183e-01\n",
      "  4.6729e-01  2.2388e-01  4.2788e-01 -2.8508e-02  5.8101e-02 -2.2657e-02\n",
      "  1.7984e-01 -5.8285e-02  3.3407e-01  3.6283e-01  2.1547e-01 -8.5014e-02\n",
      " -2.8246e-02 -1.7399e-02 -2.0000e-01  0.0000e+00 -2.2158e-02  0.0000e+00\n",
      "  0.0000e+00  0.0000e+00 -8.3457e-03  2.3674e-03  2.4361e-02 -2.0946e-02\n",
      "  1.1973e-02 -3.2168e-02 -1.9981e-02  4.7342e-02  4.3355e-02 -7.0773e-03\n",
      "  1.1138e-02 -1.3022e-02  2.1082e-02  3.9811e-02 -8.2778e-02 -1.4032e-01\n",
      " -1.8034e-02  4.1026e-02  7.8205e-02 -2.1069e-01 -2.0707e-02 -1.6472e-01\n",
      "  1.1010e-01  7.6860e-02  3.7201e-02 -5.1516e-02  1.9670e-01 -2.7118e-02\n",
      "  7.5019e-02 -1.0559e-02  1.6600e-01 -5.3157e-03  1.4225e-01  4.7461e-02\n",
      " -1.8955e-01  1.1365e-01 -4.1534e-02 -3.3890e-02  0.0000e+00  0.0000e+00\n",
      " -3.9224e-03  0.0000e+00  0.0000e+00  0.0000e+00  2.1575e-01  2.1103e-01\n",
      "  1.4304e-01  1.1624e-01  9.9158e-02  1.0957e-01  1.2295e-01  1.5339e-01\n",
      "  1.5711e-01  1.3532e-01  1.4248e-01  2.5030e-01  3.0503e-01  3.3234e-01\n",
      "  1.5560e-01  3.1932e-01  1.9821e-01  1.8584e-01  3.7790e-02  6.9713e-02\n",
      "  4.1413e-01  3.4204e-01  1.2573e-01  2.7977e-01  3.1008e-01  2.7913e-01\n",
      "  3.0200e-01  3.0211e-01  3.1028e-01  3.2939e-01  1.3510e-01  2.3214e-02\n",
      "  3.9818e-01  4.0002e-01  3.6780e-01  3.6852e-01  3.7959e-01  3.9675e-01\n",
      "  3.8300e-01  3.8074e-01  4.0323e-01  4.2484e-01  4.2667e-01  4.2455e-01\n",
      "  3.9884e-01  2.6127e-01  2.8679e-01  1.7108e-01  2.6031e-01  2.0087e-01\n",
      "  4.8885e-02  3.8782e-02  9.6697e-02  9.8953e-02  4.7280e-02  9.2030e-02\n",
      "  9.0520e-02  5.6460e-02  7.7062e-02  7.8911e-02  4.0060e-02  9.7357e-02\n",
      "  9.5563e-02 -1.0859e-01 -6.2332e-03  1.9723e-01  2.6935e-02  6.5622e-02\n",
      " -4.7024e-02  8.0685e-02  6.4897e-02 -4.1347e-02 -3.6059e-02  3.9170e-02\n",
      " -1.0547e-01  1.0215e-02  1.9597e-03 -8.9573e-02 -2.5176e-01 -8.1130e-02\n",
      " -8.1130e-02 -4.2960e-02 -4.2700e-02  7.6231e-02  3.5957e-02  8.8520e-02\n",
      "  2.0042e-01  1.2111e-01  3.0758e-02 -3.9610e-02 -8.5555e-03 -2.4409e-02\n",
      " -1.6520e-02  4.9762e-02  3.2146e-02  1.0616e-01 -9.4242e-02 -1.8114e-01\n",
      " -8.8675e-02  7.6645e-02 -1.5057e-01 -1.5155e-01 -7.2054e-02 -7.1964e-02\n",
      "  1.2449e-01  1.3443e-01  7.6297e-02 -5.2791e-02  7.0320e-02 -2.3118e-02\n",
      " -3.3918e-02 -5.2483e-02 -1.1947e-03  6.1271e-02 -4.3043e-02 -3.4495e-02\n",
      "  9.8932e-03 -5.5998e-02 -2.7496e-02 -4.4219e-02 -3.6314e-02 -1.5833e-02\n",
      " -1.2920e-03  4.7029e-02 -1.4475e-02  6.2789e-02] \n",
      " length: 214\n",
      "Joint Angle/Joint Velocity Data: [-0.0307  0.0134 -0.0639  0.086  -0.0413  0.1446  0.1074 -0.1609 -0.1669\n",
      "  0.0352  0.1761  0.1603 -0.2367 -0.0947  1.4187  1.1928  0.1032 -0.2271\n",
      "  0.3701  0.2705 -0.2006 -0.3939  0.251   0.2218  0.4673  0.2239  0.4279\n",
      " -0.0285  0.0581 -0.0227  0.1798 -0.0583  0.3341  0.3628  0.2155 -0.085\n",
      " -0.0282 -0.0174 -0.2     0.     -0.0222  0.      0.      0.     -0.0083\n",
      "  0.0024  0.0244 -0.0209  0.012  -0.0322 -0.02    0.0473  0.0434 -0.0071\n",
      "  0.0111 -0.013   0.0211  0.0398 -0.0828 -0.1403 -0.018   0.041   0.0782\n",
      " -0.2107 -0.0207 -0.1647  0.1101  0.0769  0.0372 -0.0515  0.1967 -0.0271\n",
      "  0.075  -0.0106  0.166  -0.0053  0.1422  0.0475 -0.1895  0.1137 -0.0415\n",
      " -0.0339  0.      0.     -0.0039  0.      0.      0.    ] \n",
      " length: 88\n",
      "Fiber intensity/Velocity Data: [ 0.2158  0.211   0.143   0.1162  0.0992  0.1096  0.123   0.1534  0.1571\n",
      "  0.1353  0.1425  0.2503  0.305   0.3323  0.1556  0.3193  0.1982  0.1858\n",
      "  0.0378  0.0697  0.4141  0.342   0.1257  0.2798  0.3101  0.2791  0.302\n",
      "  0.3021  0.3103  0.3294  0.1351  0.0232  0.3982  0.4     0.3678  0.3685\n",
      "  0.3796  0.3967  0.383   0.3807  0.4032  0.4248  0.4267  0.4246  0.3988\n",
      "  0.2613  0.2868  0.1711  0.2603  0.2009  0.0489  0.0388  0.0967  0.099\n",
      "  0.0473  0.092   0.0905  0.0565  0.0771  0.0789  0.0401  0.0974  0.0956\n",
      " -0.1086 -0.0062  0.1972  0.0269  0.0656 -0.047   0.0807  0.0649 -0.0413\n",
      " -0.0361  0.0392 -0.1055  0.0102  0.002  -0.0896 -0.2518 -0.0811 -0.0811\n",
      " -0.043  -0.0427  0.0762  0.036   0.0885  0.2004  0.1211  0.0308 -0.0396\n",
      " -0.0086 -0.0244 -0.0165  0.0498  0.0321  0.1062 -0.0942 -0.1811 -0.0887\n",
      "  0.0766 -0.1506 -0.1515 -0.0721 -0.072   0.1245  0.1344  0.0763 -0.0528\n",
      "  0.0703 -0.0231 -0.0339 -0.0525 -0.0012  0.0613 -0.043  -0.0345  0.0099\n",
      " -0.056  -0.0275 -0.0442 -0.0363 -0.0158 -0.0013  0.047  -0.0145  0.0628] \n",
      " length: 126\n"
     ]
    }
   ],
   "source": [
    "print(f\"Neural Data: {NeuralData[0][1]} \\n length: {len(NeuralData[0][1])}\") # 512 Neurons\n",
    "print(f\"Muscle Actuator Data: {MuscleActData[0][1]}\\n length: {len(MuscleActData[0][1])}\") # 63 Muscles\n",
    "print(f\"Fiber/Joint Angle/Joint Velocity Data: {FiberJointData[0][1]} \\n length: {len(FiberJointData[0][1])}\") # 63 muscles + 44 joints\n",
    "print(f\"Joint Angle/Joint Velocity Data: {FiberData[0][1]} \\n length: {len(FiberData[0][1])}\") \n",
    "print(f\"Fiber intensity/Velocity Data: {JointData[0][1]} \\n length: {len(JointData[0][1])}\") "
   ]
  },
  {
   "cell_type": "code",
   "execution_count": 27,
   "metadata": {},
   "outputs": [],
   "source": [
    "import numpy as np\n",
    "import scipy.io\n",
    "\n",
    "time_steps = 16\n",
    "\n",
    "# Create the `times` array and ensure it's double precision\n",
    "times =  np.arange(0, time_steps*0.05, 0.05).reshape(-1, 1)\n",
    "    \n",
    "data = [NeuralData, MuscleActData, FiberJointData, FiberData, JointData]\n",
    "matrices = []\n",
    "\n",
    "for x in range(len(data)): # 3 Matrices\n",
    "    data_struct = np.empty((ep_num,), dtype=[('A', 'O'), ('times', 'O')])\n",
    "\n",
    "    for n in range(ep_num):\n",
    "        data_struct['A'][n] = data[x][n] \n",
    "        data_struct['times'][n] = times  \n",
    "\n",
    "    \n",
    "    matrices.append(data_struct)\n",
    "    \n",
    "# Save the structured data to a .mat file with 'Data' as the matrix name\n",
    "scipy.io.savemat('OG_Model_neural_data.mat', {'Data': matrices[0]})\n",
    "scipy.io.savemat('OG_Model_muscle_data.mat', {'Data': matrices[1]})\n",
    "scipy.io.savemat('OG_Model_fiber_joint_data.mat', {'Data': matrices[2]})\n",
    "scipy.io.savemat('OG_Model_fiber_data.mat', {'Data': matrices[3]})\n",
    "scipy.io.savemat('OG_Model_joint_data.mat', {'Data': matrices[4]})\n",
    "\n"
   ]
  },
  {
   "cell_type": "markdown",
   "metadata": {},
   "source": [
    "<p> We'll basically have 3 matrices A (number of rows = number of steps): <br>\n",
    "    - Neurons: 512 columns for each neuron <br>\n",
    "    - Muscle Activity: 63 columns for each muscle actuator intensity <br>\n",
    "    - Fiber Length/Joint Angle/Velocity: 151 columns for combination of 63 fiber length, 44 joint angle and 44 joint velocities <br>"
   ]
  },
  {
   "cell_type": "markdown",
   "metadata": {},
   "source": [
    "# Down Sampling\n",
    "<p> Since the amount of neurons, muscles and fiber/joints are not equal, we want to make that we account for that size difference. "
   ]
  },
  {
   "cell_type": "code",
   "execution_count": 14,
   "metadata": {},
   "outputs": [
    {
     "name": "stdout",
     "output_type": "stream",
     "text": [
      "214\n"
     ]
    }
   ],
   "source": [
    "print(len(data[2][0][0]))\n",
    "# neural data: len(data[0][ep_1, ep_2 ... ep108][act_1, act_2...act16]) = 512\n",
    "# muscle data: len(data[1][ep_1, ep_2 ... ep108][act_1, act_2...act16]) = 63\n",
    "# fiber data: len(data[2][ep_1, ep_2 ... ep108][act_1, act_2...act16]) = 214\n",
    "\n",
    "test_neuraldata = list(data[0].values())\n",
    "test_muscledata = list(data[1].values())\n",
    "test_fiberdata = list(data[2].values())"
   ]
  },
  {
   "cell_type": "code",
   "execution_count": 15,
   "metadata": {},
   "outputs": [],
   "source": [
    "def downsample(dataset):\n",
    "    downsampled_dataset = []\n",
    "    for episode in dataset:\n",
    "        downsampled_episode = []\n",
    "        for activity in episode:\n",
    "            if len(activity) > 63:\n",
    "                step = len(activity) // 63\n",
    "                downsampled_activity = activity[::step][:63]  \n",
    "            else:\n",
    "                downsampled_activity = activity \n",
    "            downsampled_episode.append(downsampled_activity)\n",
    "        downsampled_dataset.append(downsampled_episode)\n",
    "    return downsampled_dataset"
   ]
  },
  {
   "cell_type": "code",
   "execution_count": 16,
   "metadata": {},
   "outputs": [],
   "source": [
    "downsampled_Neural_data = {}\n",
    "\n",
    "downsampled_Neural_data = downsample(test_neuraldata)\n",
    "\n",
    "downsampled_Neural_data = {index: value for index, value in enumerate(downsampled_Neural_data)}"
   ]
  },
  {
   "cell_type": "code",
   "execution_count": 17,
   "metadata": {},
   "outputs": [
    {
     "name": "stdout",
     "output_type": "stream",
     "text": [
      "63\n"
     ]
    }
   ],
   "source": [
    "downsampled_FiberJoint_data = {}\n",
    "\n",
    "downsampled_FiberJoint_data = downsample(test_fiberdata)\n",
    "    \n",
    "downsampled_FiberJoint_data = {index: value for index, value in enumerate(downsampled_FiberJoint_data )}\n",
    "\n",
    "print(len(downsampled_Neural_data[0][0]))"
   ]
  },
  {
   "cell_type": "markdown",
   "metadata": {},
   "source": [
    "Create Matrix"
   ]
  },
  {
   "cell_type": "code",
   "execution_count": 19,
   "metadata": {},
   "outputs": [
    {
     "ename": "IndexError",
     "evalue": "list index out of range",
     "output_type": "error",
     "traceback": [
      "\u001b[1;31m---------------------------------------------------------------------------\u001b[0m",
      "\u001b[1;31mIndexError\u001b[0m                                Traceback (most recent call last)",
      "Cell \u001b[1;32mIn[19], line 26\u001b[0m\n\u001b[0;32m     24\u001b[0m scipy\u001b[38;5;241m.\u001b[39mio\u001b[38;5;241m.\u001b[39msavemat(\u001b[38;5;124m'\u001b[39m\u001b[38;5;124mMuscleAct_Data_downsampled_training.mat\u001b[39m\u001b[38;5;124m'\u001b[39m, {\u001b[38;5;124m'\u001b[39m\u001b[38;5;124mData\u001b[39m\u001b[38;5;124m'\u001b[39m: matrices[\u001b[38;5;241m1\u001b[39m]})\n\u001b[0;32m     25\u001b[0m scipy\u001b[38;5;241m.\u001b[39mio\u001b[38;5;241m.\u001b[39msavemat(\u001b[38;5;124m'\u001b[39m\u001b[38;5;124mFiberJoint_Data_downsampled_training.mat\u001b[39m\u001b[38;5;124m'\u001b[39m, {\u001b[38;5;124m'\u001b[39m\u001b[38;5;124mData\u001b[39m\u001b[38;5;124m'\u001b[39m: matrices[\u001b[38;5;241m2\u001b[39m]})\n\u001b[1;32m---> 26\u001b[0m scipy\u001b[38;5;241m.\u001b[39mio\u001b[38;5;241m.\u001b[39msavemat(\u001b[38;5;124m'\u001b[39m\u001b[38;5;124mFiber_Data_downsampled_training.mat\u001b[39m\u001b[38;5;124m'\u001b[39m, {\u001b[38;5;124m'\u001b[39m\u001b[38;5;124mData\u001b[39m\u001b[38;5;124m'\u001b[39m: \u001b[43mmatrices\u001b[49m\u001b[43m[\u001b[49m\u001b[38;5;241;43m3\u001b[39;49m\u001b[43m]\u001b[49m})\n\u001b[0;32m     27\u001b[0m scipy\u001b[38;5;241m.\u001b[39mio\u001b[38;5;241m.\u001b[39msavemat(\u001b[38;5;124m'\u001b[39m\u001b[38;5;124mJoint_Data_downsampled_training.mat\u001b[39m\u001b[38;5;124m'\u001b[39m, {\u001b[38;5;124m'\u001b[39m\u001b[38;5;124mData\u001b[39m\u001b[38;5;124m'\u001b[39m: matrices[\u001b[38;5;241m4\u001b[39m]})\n",
      "\u001b[1;31mIndexError\u001b[0m: list index out of range"
     ]
    }
   ],
   "source": [
    "import numpy as np\n",
    "import scipy.io\n",
    "\n",
    "time_steps = 16\n",
    "\n",
    "# Create the `times` array and ensure it's double precision\n",
    "times =  np.arange(0, time_steps*0.05, 0.05).reshape(-1, 1)\n",
    "    \n",
    "data = [downsampled_Neural_data, MuscleActData, downsampled_FiberJoint_data]\n",
    "matrices = []\n",
    "\n",
    "for x in range(3): # 3 Matrices\n",
    "    data_struct = np.empty((ep_num,), dtype=[('A', 'O'), ('times', 'O')])\n",
    "\n",
    "    for n in range(ep_num):\n",
    "        data_struct['A'][n] = data[x][n] \n",
    "        data_struct['times'][n] = times  \n",
    "\n",
    "    \n",
    "    matrices.append(data_struct)\n",
    "    \n",
    "# Save the structured data to a .mat file with 'Data' as the matrix name\n",
    "scipy.io.savemat('Neural_Data_downsampled_training.mat', {'Data': matrices[0]})\n",
    "scipy.io.savemat('MuscleAct_Data_downsampled_training.mat', {'Data': matrices[1]})\n",
    "scipy.io.savemat('FiberJoint_Data_downsampled_training.mat', {'Data': matrices[2]})\n",
    "scipy.io.savemat('Fiber_Data_downsampled_training.mat', {'Data': matrices[3]})\n",
    "scipy.io.savemat('Joint_Data_downsampled_training.mat', {'Data': matrices[4]})\n"
   ]
  },
  {
   "cell_type": "markdown",
   "metadata": {},
   "source": []
  }
 ],
 "metadata": {
  "kernelspec": {
   "display_name": "myosuite",
   "language": "python",
   "name": "python3"
  },
  "language_info": {
   "codemirror_mode": {
    "name": "ipython",
    "version": 3
   },
   "file_extension": ".py",
   "mimetype": "text/x-python",
   "name": "python",
   "nbconvert_exporter": "python",
   "pygments_lexer": "ipython3",
   "version": "3.8.18"
  }
 },
 "nbformat": 4,
 "nbformat_minor": 2
}
